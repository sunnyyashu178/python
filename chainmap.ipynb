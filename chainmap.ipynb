{
 "cells": [
  {
   "cell_type": "code",
   "execution_count": 16,
   "metadata": {},
   "outputs": [
    {
     "name": "stdout",
     "output_type": "stream",
     "text": [
      "[{'day1': 'Mon', 'day2': 'Tue'}, {'day3': 'Wed', 'day1': 'Thur'}] \n",
      "\n",
      "keys =['day3', 'day1', 'day2']\n",
      "values = ['Wed', 'Mon', 'Tue']\n",
      "\n",
      "\n",
      "elements:\n",
      "day3 = Wed\n",
      "day1 = Mon\n",
      "day2 = Tue\n",
      "\n",
      "day1 in res: True\n",
      "day4 in res: False\n"
     ]
    }
   ],
   "source": [
    "import collections\n",
    "\n",
    "dict1 = {\"day1\":\"Mon\",\"day2\":\"Tue\"}\n",
    "dict2 = {\"day3\":\"Wed\",\"day1\":\"Thur\"}\n",
    "\n",
    "res = collections.ChainMap(dict1,dict2)\n",
    "\n",
    "print(res.maps,\"\\n\")\n",
    "\n",
    "print(\"keys ={}\".format(list(res.keys())))\n",
    "print(\"values = {}\".format(list(res.values())))\n",
    "print(\"\\n\")\n",
    "print(\"elements:\")\n",
    "for key,value in res.items():\n",
    "    print(\"{} = {}\".format(key,value))\n",
    "print()\n",
    "\n",
    "print(\"day1 in res: {}\".format((\"day1\" in res)))\n",
    "print(\"day4 in res: {}\".format((\"day4\" in res)))"
   ]
  },
  {
   "cell_type": "code",
   "execution_count": 22,
   "metadata": {},
   "outputs": [
    {
     "name": "stdout",
     "output_type": "stream",
     "text": [
      "[{'day1': 'Mon', 'day2': 'Tue'}, {'day3': 'Wed', 'day4': 'Thu'}] \n",
      "\n",
      "[{'day3': 'Wed', 'day4': 'Thu'}, {'day1': 'Mon', 'day2': 'Tue'}]\n"
     ]
    }
   ],
   "source": [
    "dict1 = {'day1': 'Mon', 'day2': 'Tue'}\n",
    "dict2 = {'day3': 'Wed', 'day4': 'Thu'}\n",
    "\n",
    "res1 = collections.ChainMap(dict1,dict2)\n",
    "print(res1.maps,\"\\n\")\n",
    "\n",
    "res2 = collections.ChainMap(dict2,dict1)\n",
    "print(res2.maps)"
   ]
  },
  {
   "cell_type": "code",
   "execution_count": null,
   "metadata": {},
   "outputs": [],
   "source": []
  }
 ],
 "metadata": {
  "kernelspec": {
   "display_name": "Python 3",
   "language": "python",
   "name": "python3"
  },
  "language_info": {
   "codemirror_mode": {
    "name": "ipython",
    "version": 3
   },
   "file_extension": ".py",
   "mimetype": "text/x-python",
   "name": "python",
   "nbconvert_exporter": "python",
   "pygments_lexer": "ipython3",
   "version": "3.8.5"
  }
 },
 "nbformat": 4,
 "nbformat_minor": 4
}
