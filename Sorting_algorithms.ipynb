{
 "cells": [
  {
   "cell_type": "markdown",
   "metadata": {},
   "source": [
    "# Bubble sort"
   ]
  },
  {
   "cell_type": "code",
   "execution_count": 4,
   "metadata": {},
   "outputs": [
    {
     "name": "stdout",
     "output_type": "stream",
     "text": [
      "[2, 6, 11, 19, 27, 31, 45, 121]\n"
     ]
    }
   ],
   "source": [
    "def bubblesort(list):\n",
    "    \n",
    "    for iter_num in range(len(list)-1,0,-1):\n",
    "        for idx in range(iter_num):\n",
    "            if list[idx] > list[idx+1]:\n",
    "                temp = list[idx]\n",
    "                list[idx] = list[idx+1]\n",
    "                list[idx+1] = temp\n",
    "                \n",
    "list = [19,2,31,45,6,11,121,27]\n",
    "bubblesort(list)\n",
    "print(list)"
   ]
  },
  {
   "cell_type": "code",
   "execution_count": 28,
   "metadata": {},
   "outputs": [
    {
     "name": "stdout",
     "output_type": "stream",
     "text": [
      "[2, 7, 19, 31, 45]\n"
     ]
    }
   ],
   "source": [
    "def bubblesor(list):\n",
    "    \n",
    "    for item_num in range(len(list)-1,0,-1):\n",
    "        for idx in range(item_num):\n",
    "            if list[idx]>list[idx+1]:\n",
    "                list[idx],list[idx+1] = list[idx+1],list[idx]\n",
    "list = [19,2,45,31,7]\n",
    "bubblesor(list)\n",
    "print(list)"
   ]
  },
  {
   "cell_type": "code",
   "execution_count": null,
   "metadata": {},
   "outputs": [],
   "source": []
  },
  {
   "cell_type": "markdown",
   "metadata": {},
   "source": [
    "# Merge sort"
   ]
  },
  {
   "cell_type": "code",
   "execution_count": 37,
   "metadata": {},
   "outputs": [
    {
     "name": "stdout",
     "output_type": "stream",
     "text": [
      "[2, 7, 19, 31, 45]\n"
     ]
    }
   ],
   "source": [
    "def merge_sort(unsorted_list):\n",
    "    if len(unsorted_list) <= 1:\n",
    "        return unsorted_list\n",
    "    \n",
    "    middle = len(unsorted_list)//2\n",
    "    left_list = unsorted_list[:middle]\n",
    "    right_list = unsorted_list[middle:]\n",
    "    \n",
    "    left_list = merge_sort(left_list)\n",
    "    right_list = merge_sort(right_list)\n",
    "    return merge(left_list,right_list)\n",
    "\n",
    "def merge(left_half,right_half):\n",
    "    \n",
    "    res = []\n",
    "    while len(left_half)!=0 and len(right_half)!=0:\n",
    "        if left_half[0] < right_half[0]:\n",
    "            res.append(left_half[0])\n",
    "            left_half.remove(left_half[0])\n",
    "        else:\n",
    "            res.append(right_half[0])\n",
    "            right_half.remove(right_half[0])\n",
    "            \n",
    "    if len(left_half)==0:\n",
    "        res = res+right_half\n",
    "    else:\n",
    "        res = res+left_half\n",
    "    return res\n",
    "\n",
    "unsorted_list = [19,2,45,31,7]\n",
    "print(merge_sort(unsorted_list))"
   ]
  },
  {
   "cell_type": "code",
   "execution_count": null,
   "metadata": {},
   "outputs": [],
   "source": []
  },
  {
   "cell_type": "code",
   "execution_count": 36,
   "metadata": {},
   "outputs": [
    {
     "name": "stdout",
     "output_type": "stream",
     "text": [
      "(([19], [2]), ([45], ([31], [7])))\n"
     ]
    }
   ],
   "source": [
    "def mere_sort(unsorted_list):\n",
    "    if len(unsorted_list) <= 1:\n",
    "        return unsorted_list\n",
    "    \n",
    "    middle = len(unsorted_list)//2\n",
    "    left_list = unsorted_list[:middle]\n",
    "    right_list = unsorted_list[middle:]\n",
    "    \n",
    "    left_list = mere_sort(left_list)\n",
    "    right_list = mere_sort(right_list)\n",
    "    return left_list,right_list\n",
    "\n",
    "unsorted_list = [19,2,45,31,7]\n",
    "print(mere_sort(unsorted_list))"
   ]
  },
  {
   "cell_type": "markdown",
   "metadata": {},
   "source": [
    "# Insertion sort"
   ]
  },
  {
   "cell_type": "code",
   "execution_count": 41,
   "metadata": {},
   "outputs": [
    {
     "name": "stdout",
     "output_type": "stream",
     "text": [
      "[2, 7, 19, 31, 45]\n"
     ]
    }
   ],
   "source": [
    "def insertion_sort(InputList):\n",
    "    for i in range(1,len(InputList)):\n",
    "        j = i-1\n",
    "        nxt_element = InputList[i]\n",
    "        \n",
    "        while (InputList[j]>nxt_element) and (j>=0):\n",
    "            InputList[j+1],InputList[j] = InputList[j],InputList[j+1]\n",
    "            j=j-1\n",
    "        InputList[j+1] = nxt_element\n",
    "        \n",
    "list = [19,2,45,31,7]\n",
    "insertion_sort(list)\n",
    "print(list)"
   ]
  },
  {
   "cell_type": "code",
   "execution_count": null,
   "metadata": {},
   "outputs": [],
   "source": []
  },
  {
   "cell_type": "markdown",
   "metadata": {},
   "source": [
    "# Shell sort"
   ]
  },
  {
   "cell_type": "code",
   "execution_count": 42,
   "metadata": {},
   "outputs": [
    {
     "name": "stdout",
     "output_type": "stream",
     "text": [
      "[2, 7, 19, 31, 45]\n"
     ]
    }
   ],
   "source": [
    "def shellsort(input_list):\n",
    "    \n",
    "    gap = len(input_list)//2\n",
    "    \n",
    "    while gap>0:\n",
    "        for i in range(gap,len(input_list)):\n",
    "            temp = input_list[i]\n",
    "            j=i\n",
    "            \n",
    "            while j>=gap and input_list[j-gap]>temp:\n",
    "                input_list[j] = input_list[j-gap]\n",
    "                j = j-gap\n",
    "            input_list[j] = temp\n",
    "            \n",
    "        gap = gap//2\n",
    "        \n",
    "list = [19,2,45,31,7]\n",
    "shellsort(list)\n",
    "print(list)"
   ]
  },
  {
   "cell_type": "code",
   "execution_count": null,
   "metadata": {},
   "outputs": [],
   "source": []
  },
  {
   "cell_type": "markdown",
   "metadata": {},
   "source": [
    "# selection sort"
   ]
  },
  {
   "cell_type": "code",
   "execution_count": 20,
   "metadata": {},
   "outputs": [
    {
     "name": "stdout",
     "output_type": "stream",
     "text": [
      "[2, 19, 31, 45]\n"
     ]
    }
   ],
   "source": [
    "def selection_sort(input_list):\n",
    "    \n",
    "    for idx in range(len(input_list)):\n",
    "        \n",
    "        min_idx = idx\n",
    "        for j in range(idx+1, len(input_list)):\n",
    "            if input_list[min_idx]>input_list[j]:\n",
    "                min_idx = j\n",
    "                \n",
    "        input_list[idx], input_list[min_idx] = input_list[min_idx], input_list[idx]\n",
    "\n",
    "l = [19,2,45,31]\n",
    "selection_sort(l)\n",
    "print(l)"
   ]
  },
  {
   "cell_type": "code",
   "execution_count": null,
   "metadata": {},
   "outputs": [],
   "source": []
  },
  {
   "cell_type": "code",
   "execution_count": null,
   "metadata": {},
   "outputs": [],
   "source": []
  },
  {
   "cell_type": "code",
   "execution_count": null,
   "metadata": {},
   "outputs": [],
   "source": []
  },
  {
   "cell_type": "code",
   "execution_count": null,
   "metadata": {},
   "outputs": [],
   "source": []
  },
  {
   "cell_type": "code",
   "execution_count": null,
   "metadata": {},
   "outputs": [],
   "source": []
  }
 ],
 "metadata": {
  "kernelspec": {
   "display_name": "Python 3",
   "language": "python",
   "name": "python3"
  },
  "language_info": {
   "codemirror_mode": {
    "name": "ipython",
    "version": 3
   },
   "file_extension": ".py",
   "mimetype": "text/x-python",
   "name": "python",
   "nbconvert_exporter": "python",
   "pygments_lexer": "ipython3",
   "version": "3.8.5"
  }
 },
 "nbformat": 4,
 "nbformat_minor": 4
}
