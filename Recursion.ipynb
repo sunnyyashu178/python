{
 "cells": [
  {
   "cell_type": "markdown",
   "metadata": {},
   "source": [
    "### Recursion provides a powerful alternative for performing repetitions of tasks in which a loop is not ideal"
   ]
  },
  {
   "cell_type": "code",
   "execution_count": 28,
   "metadata": {},
   "outputs": [],
   "source": [
    "def fact(n):\n",
    "    #Basecase\n",
    "    if n==0:\n",
    "        return 1\n",
    "    \n",
    "    for i in range(1,n+1):\n",
    "        return n*fact(n-1)"
   ]
  },
  {
   "cell_type": "code",
   "execution_count": 29,
   "metadata": {},
   "outputs": [
    {
     "data": {
      "text/plain": [
       "120"
      ]
     },
     "execution_count": 29,
     "metadata": {},
     "output_type": "execute_result"
    }
   ],
   "source": [
    "fact(5)"
   ]
  },
  {
   "cell_type": "code",
   "execution_count": 22,
   "metadata": {},
   "outputs": [],
   "source": [
    "def fact1(n):\n",
    "    if n==0:\n",
    "        return 1\n",
    "    else:\n",
    "        return n*fact(n-1)"
   ]
  },
  {
   "cell_type": "code",
   "execution_count": 23,
   "metadata": {},
   "outputs": [
    {
     "name": "stdout",
     "output_type": "stream",
     "text": [
      "120\n"
     ]
    }
   ],
   "source": [
    "fact1(5)"
   ]
  },
  {
   "cell_type": "code",
   "execution_count": 32,
   "metadata": {},
   "outputs": [
    {
     "name": "stdout",
     "output_type": "stream",
     "text": [
      "\n",
      "Please Enter the Range Number: 10\n",
      "0\n",
      "1\n",
      "1\n",
      "2\n",
      "3\n",
      "5\n",
      "8\n",
      "13\n",
      "21\n",
      "34\n"
     ]
    }
   ],
   "source": [
    "Number = int(input(\"\\nPlease Enter the Range Number: \"))\n",
    "\n",
    "# Initializing First and Second Values of a Series\n",
    "First_Value = 0\n",
    "Second_Value = 1\n",
    "           \n",
    "# Find & Displaying Fibonacci series\n",
    "for Num in range(0, Number):\n",
    "    if(Num <= 1):\n",
    "        Next = Num\n",
    "    else:\n",
    "        Next = First_Value + Second_Value\n",
    "        First_Value = Second_Value\n",
    "        Second_Value = Next\n",
    "    print(Next)"
   ]
  },
  {
   "cell_type": "code",
   "execution_count": 47,
   "metadata": {},
   "outputs": [
    {
     "data": {
      "text/plain": [
       "15"
      ]
     },
     "execution_count": 47,
     "metadata": {},
     "output_type": "execute_result"
    }
   ],
   "source": [
    "def rec_sum(n):\n",
    "    if n==0:\n",
    "        return 0\n",
    "    else:\n",
    "        return n+rec_sum(n-1)\n",
    "rec_sum(5)"
   ]
  },
  {
   "cell_type": "code",
   "execution_count": 67,
   "metadata": {},
   "outputs": [
    {
     "data": {
      "text/plain": [
       "10"
      ]
     },
     "execution_count": 67,
     "metadata": {},
     "output_type": "execute_result"
    }
   ],
   "source": [
    "def sum_func(n):\n",
    "    if len(str(n)) == 1:\n",
    "        return n\n",
    "    else:\n",
    "        return n%10 + sum_func(n//10)\n",
    "sum_func(4321)"
   ]
  },
  {
   "cell_type": "code",
   "execution_count": 70,
   "metadata": {
    "scrolled": true
   },
   "outputs": [
    {
     "data": {
      "text/plain": [
       "12"
      ]
     },
     "execution_count": 70,
     "metadata": {},
     "output_type": "execute_result"
    }
   ],
   "source": [
    "def sum_func2(n):\n",
    "    sum =0\n",
    "    while n!=0:\n",
    "        sum = sum+int(n%10)\n",
    "        n = int(n//10)\n",
    "    return sum\n",
    "sum_func(453)"
   ]
  },
  {
   "cell_type": "code",
   "execution_count": 71,
   "metadata": {},
   "outputs": [],
   "source": [
    "def word_split(phrase,list_of_words ,output=None):\n",
    "    if output is None:\n",
    "        output= []\n",
    "    for word in list_of_words:\n",
    "        if phrase.startswith(word):  \n",
    "            output.append(word)\n",
    "            return word_split(phrase[len(word):],list_of_words,output)\n",
    "    return output"
   ]
  },
  {
   "cell_type": "code",
   "execution_count": 72,
   "metadata": {},
   "outputs": [
    {
     "data": {
      "text/plain": [
       "['the', 'man', 'ran']"
      ]
     },
     "execution_count": 72,
     "metadata": {},
     "output_type": "execute_result"
    }
   ],
   "source": [
    "word_split('themanran',['the','ran','man'])"
   ]
  },
  {
   "cell_type": "markdown",
   "metadata": {},
   "source": [
    "# Memorization\n",
    "Memoization effectively refers to remembering (\"memoization\" -> \"memorandum\" -> to be remembered) results of method calls based on the method inputs and then returning the remembered result rather than computing the result again. You can think of it as a cache for method results. "
   ]
  },
  {
   "cell_type": "code",
   "execution_count": 74,
   "metadata": {},
   "outputs": [
    {
     "data": {
      "text/plain": [
       "120"
      ]
     },
     "execution_count": 74,
     "metadata": {},
     "output_type": "execute_result"
    }
   ],
   "source": [
    "factorial_memo = {}\n",
    "def factorial(k):\n",
    "    if k<2:\n",
    "        return 1\n",
    "    if not k in factorial_memo:\n",
    "        factorial_memo[k] = k*factorial(k-1)\n",
    "    return factorial_memo[k]\n",
    "factorial(5)"
   ]
  },
  {
   "cell_type": "code",
   "execution_count": 98,
   "metadata": {},
   "outputs": [
    {
     "data": {
      "text/plain": [
       "'987654321'"
      ]
     },
     "execution_count": 98,
     "metadata": {},
     "output_type": "execute_result"
    }
   ],
   "source": [
    "def rever(stri):\n",
    "    if len(stri)<=1:\n",
    "        return stri\n",
    "    else:\n",
    "        m=int(len(stri)/2)\n",
    "        return rever(stri[1:]) + stri[0] \n",
    "    pass\n",
    "rever(\"123456789\")"
   ]
  },
  {
   "cell_type": "code",
   "execution_count": 85,
   "metadata": {},
   "outputs": [
    {
     "name": "stdout",
     "output_type": "stream",
     "text": [
      "0 a\n",
      "1 b\n",
      "2 c\n"
     ]
    }
   ],
   "source": [
    "s=\"abc\"\n",
    "for i,let in enumerate(s):\n",
    "    print(i,let)  "
   ]
  },
  {
   "cell_type": "code",
   "execution_count": 95,
   "metadata": {},
   "outputs": [
    {
     "data": {
      "text/plain": [
       "'dcba'"
      ]
     },
     "execution_count": 95,
     "metadata": {},
     "output_type": "execute_result"
    }
   ],
   "source": [
    "def s(st):\n",
    "    if len(st)<=1:\n",
    "        return st\n",
    "    else:\n",
    "        return s(st[1:])+st[0]\n",
    "s(\"abcd\")"
   ]
  },
  {
   "cell_type": "code",
   "execution_count": 106,
   "metadata": {},
   "outputs": [],
   "source": [
    "def permut(s):\n",
    "    output=[]\n",
    "    if len(s)<=1:\n",
    "        output=[s]\n",
    "    else:\n",
    "        for i,let in enumerate(s):\n",
    "            for perm in permut(s[:i]+s[i+1:]):\n",
    "                print(\"current letter is:\",let)\n",
    "                print(\"perm is:\",perm)\n",
    "                output += [let+perm]\n",
    "    return output"
   ]
  },
  {
   "cell_type": "code",
   "execution_count": 107,
   "metadata": {},
   "outputs": [
    {
     "name": "stdout",
     "output_type": "stream",
     "text": [
      "current letter is: b\n",
      "perm is: c\n",
      "current letter is: c\n",
      "perm is: b\n",
      "current letter is: a\n",
      "perm is: bc\n",
      "current letter is: a\n",
      "perm is: cb\n",
      "current letter is: a\n",
      "perm is: c\n",
      "current letter is: c\n",
      "perm is: a\n",
      "current letter is: b\n",
      "perm is: ac\n",
      "current letter is: b\n",
      "perm is: ca\n",
      "current letter is: a\n",
      "perm is: b\n",
      "current letter is: b\n",
      "perm is: a\n",
      "current letter is: c\n",
      "perm is: ab\n",
      "current letter is: c\n",
      "perm is: ba\n"
     ]
    },
    {
     "data": {
      "text/plain": [
       "['abc', 'acb', 'bac', 'bca', 'cab', 'cba']"
      ]
     },
     "execution_count": 107,
     "metadata": {},
     "output_type": "execute_result"
    }
   ],
   "source": [
    "permut(\"abc\")"
   ]
  },
  {
   "cell_type": "code",
   "execution_count": 123,
   "metadata": {},
   "outputs": [
    {
     "data": {
      "text/plain": [
       "55"
      ]
     },
     "execution_count": 123,
     "metadata": {},
     "output_type": "execute_result"
    }
   ],
   "source": [
    "def fibo(n):\n",
    "    if n<=2:\n",
    "        return int((n+1)/2)\n",
    "    else:\n",
    "        return fibo(n-1)+fibo(n-2)\n",
    "fibo(10)"
   ]
  },
  {
   "cell_type": "code",
   "execution_count": 125,
   "metadata": {},
   "outputs": [],
   "source": [
    "#0,1,1,2,3,5,8,13"
   ]
  },
  {
   "cell_type": "code",
   "execution_count": 132,
   "metadata": {},
   "outputs": [],
   "source": [
    "import math"
   ]
  },
  {
   "cell_type": "code",
   "execution_count": 139,
   "metadata": {},
   "outputs": [
    {
     "data": {
      "text/plain": [
       "2"
      ]
     },
     "execution_count": 139,
     "metadata": {},
     "output_type": "execute_result"
    }
   ],
   "source": [
    "math.floor(2.9)"
   ]
  },
  {
   "cell_type": "code",
   "execution_count": 137,
   "metadata": {},
   "outputs": [
    {
     "data": {
      "text/plain": [
       "3"
      ]
     },
     "execution_count": 137,
     "metadata": {},
     "output_type": "execute_result"
    }
   ],
   "source": [
    "math.ceil(2.1)"
   ]
  },
  {
   "cell_type": "code",
   "execution_count": 148,
   "metadata": {},
   "outputs": [
    {
     "name": "stdout",
     "output_type": "stream",
     "text": [
      "sunny\n",
      "dog\n",
      "yashu\n",
      "cat\n"
     ]
    }
   ],
   "source": [
    "s = [{\"name\":\"sunny\",\"pet\":\"dog\"},{\"name\":\"yashu\",\"pet\":\"cat\"}]\n",
    "for person in s:\n",
    "    for n,p in person.items():\n",
    "        print(p)"
   ]
  },
  {
   "cell_type": "code",
   "execution_count": 166,
   "metadata": {},
   "outputs": [],
   "source": [
    "n=1"
   ]
  },
  {
   "cell_type": "code",
   "execution_count": 167,
   "metadata": {},
   "outputs": [
    {
     "data": {
      "text/plain": [
       "1.0"
      ]
     },
     "execution_count": 167,
     "metadata": {},
     "output_type": "execute_result"
    }
   ],
   "source": [
    "(n*(n+1))/2"
   ]
  },
  {
   "cell_type": "code",
   "execution_count": 168,
   "metadata": {},
   "outputs": [
    {
     "data": {
      "text/plain": [
       "3.0"
      ]
     },
     "execution_count": 168,
     "metadata": {},
     "output_type": "execute_result"
    }
   ],
   "source": [
    "((n+1)*(n+2))/2"
   ]
  },
  {
   "cell_type": "code",
   "execution_count": null,
   "metadata": {},
   "outputs": [],
   "source": []
  }
 ],
 "metadata": {
  "kernelspec": {
   "display_name": "Python 3",
   "language": "python",
   "name": "python3"
  },
  "language_info": {
   "codemirror_mode": {
    "name": "ipython",
    "version": 3
   },
   "file_extension": ".py",
   "mimetype": "text/x-python",
   "name": "python",
   "nbconvert_exporter": "python",
   "pygments_lexer": "ipython3",
   "version": "3.7.6"
  }
 },
 "nbformat": 4,
 "nbformat_minor": 4
}
