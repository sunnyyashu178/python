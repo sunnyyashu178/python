{
 "cells": [
  {
   "cell_type": "code",
   "execution_count": 1,
   "metadata": {},
   "outputs": [
    {
     "name": "stdout",
     "output_type": "stream",
     "text": [
      "Ummmm, my favorite!\n",
      "I feel like saying it 100 times...\n",
      "spam! spam! spam! spam! spam! spam! spam! spam! spam! spam! spam! spam! spam! spam! spam! spam! spam! spam! spam! spam! spam! spam! spam! spam! spam! spam! spam! spam! spam! spam! spam! spam! spam! spam! spam! spam! spam! spam! spam! spam! spam! spam! spam! spam! spam! spam! spam! spam! spam! spam! spam! spam! spam! spam! spam! spam! spam! spam! spam! spam! spam! spam! spam! spam! spam! spam! spam! spam! spam! spam! spam! spam! spam! spam! spam! spam! spam! spam! spam! spam! spam! spam! spam! spam! spam! spam! spam! spam! spam! spam! spam! spam! spam! spam! spam! spam! spam! spam! spam! spam! \n"
     ]
    }
   ],
   "source": [
    "food = 'spam'\n",
    "\n",
    "if food == 'spam':\n",
    "    print('Ummmm, my favorite!')\n",
    "    print('I feel like saying it 100 times...')\n",
    "    print(100 * (food + '! '))"
   ]
  },
  {
   "cell_type": "code",
   "execution_count": 2,
   "metadata": {},
   "outputs": [
    {
     "name": "stdout",
     "output_type": "stream",
     "text": [
      "So I'm thinking of person's name. Try to guess it:jdc\n",
      "Nope!That's not it, hint: letter 1 is s .Guess again:sunny\n",
      "\n",
      "Great you got it in 2 Guesses!\n"
     ]
    }
   ],
   "source": [
    "name = 'Sunny'.lower()\n",
    "guess = input(\"So I'm thinking of person's name. Try to guess it:\")\n",
    "pos = 0\n",
    "while guess != name and pos<len(name):\n",
    "    print(\"Nope!That's not it, hint: letter \",end=\"\")\n",
    "    print(pos+1,\"is\",name[pos],\".\",end=\"\")\n",
    "    guess = input('Guess again:')\n",
    "    pos += 1\n",
    "if pos == len(name) and guess!=name:\n",
    "    print(\"too bad! you are out of chances and the name is:\",name)\n",
    "else:\n",
    "    print(\"\\nGreat you got it in\",pos+1,\"Guesses!\")\n",
    "    "
   ]
  },
  {
   "cell_type": "code",
   "execution_count": 7,
   "metadata": {},
   "outputs": [
    {
     "name": "stdout",
     "output_type": "stream",
     "text": [
      "Guess my number between 1 and 1000:8\n",
      "8 is too low\n",
      "Guess again!50\n",
      "50 is too low\n",
      "Guess again!86\n",
      "86 is too low\n",
      "Guess again!92\n",
      "92 is too low\n",
      "Guess again!95\n",
      "You lost is and the correct number is: 97\n"
     ]
    }
   ],
   "source": [
    "import random\n",
    "\n",
    "number = random.randrange(1,100)\n",
    "guesses = 0\n",
    "chances = 4\n",
    "guess = int(input(\"Guess my number between 1 and 1000:\"))\n",
    "while guess != number and chances!=0:\n",
    "    guesses+=1\n",
    "    if guess > number:\n",
    "        print(guess,\"is too high\")\n",
    "    elif guess< number:\n",
    "        print(guess,\"is too low\")\n",
    "    chances-=1\n",
    "    guess = int(input(\"Guess again!\"))\n",
    "if chances==0 and guess!=number:\n",
    "    print(\"You lost is and the correct number is:\",number)\n",
    "else:\n",
    "    print(\"\\n\\nGreat! You guessed the number in\",guesses,\"guesses!\")"
   ]
  },
  {
   "cell_type": "code",
   "execution_count": 9,
   "metadata": {},
   "outputs": [
    {
     "name": "stdout",
     "output_type": "stream",
     "text": [
      "24\n",
      "36\n",
      "52\n",
      "done\n"
     ]
    }
   ],
   "source": [
    "for i in [24,36,52,41,57]:\n",
    "    if i%2==1:\n",
    "        break\n",
    "    print(i)\n",
    "print(\"done\")"
   ]
  },
  {
   "cell_type": "code",
   "execution_count": 11,
   "metadata": {},
   "outputs": [
    {
     "name": "stdout",
     "output_type": "stream",
     "text": [
      "24\n",
      "36\n",
      "52\n",
      "62\n",
      "done\n"
     ]
    }
   ],
   "source": [
    "for i in [24,36,52,41,57,62]:\n",
    "    if i%2==1:\n",
    "        continue\n",
    "    print(i)\n",
    "print(\"done\")"
   ]
  },
  {
   "cell_type": "code",
   "execution_count": 12,
   "metadata": {},
   "outputs": [
    {
     "name": "stdout",
     "output_type": "stream",
     "text": [
      "24\n",
      "36\n",
      "52\n",
      "41\n",
      "57\n",
      "62\n",
      "done\n"
     ]
    }
   ],
   "source": [
    "for i in [24,36,52,41,57,62]:\n",
    "    if i%2==1:\n",
    "        pass\n",
    "    print(i)\n",
    "print(\"done\")"
   ]
  },
  {
   "cell_type": "code",
   "execution_count": 16,
   "metadata": {},
   "outputs": [
    {
     "name": "stdout",
     "output_type": "stream",
     "text": [
      "Enter the sentence:I am Yaswanth Babu Rayarapu\n",
      "your letter with no_spaces:\n",
      "IamYaswanthBabuRayarapu\n"
     ]
    }
   ],
   "source": [
    "sentence = input(\"Enter the sentence:\")\n",
    "no_spaces = \"\"\n",
    "for letter in sentence:\n",
    "    if letter!=\" \":\n",
    "        no_spaces+=letter\n",
    "print('your letter with no_spaces:')\n",
    "print(no_spaces)"
   ]
  },
  {
   "cell_type": "code",
   "execution_count": 2,
   "metadata": {},
   "outputs": [
    {
     "name": "stdout",
     "output_type": "stream",
     "text": [
      "Alejandro enrolled in 2 courses and thoseare ['CompSci', 'Physics']\n",
      "Justin enrolled in 3 courses and thoseare ['Math', 'CompSci', 'Stats']\n",
      "Ed enrolled in 3 courses and thoseare ['CompSci', 'Accounting', 'Economics']\n",
      "Margot enrolled in 4 courses and thoseare ['InfSys', 'Accounting', 'Economics', 'CommLaw']\n",
      "Peter enrolled in 5 courses and thoseare ['Sociology', 'Economics', 'Law', 'Stats', 'Music']\n"
     ]
    }
   ],
   "source": [
    "students = [(\"Alejandro\", [\"CompSci\", \"Physics\"]),\n",
    "            (\"Justin\", [\"Math\", \"CompSci\", \"Stats\"]),\n",
    "            (\"Ed\", [\"CompSci\", \"Accounting\", \"Economics\"]),\n",
    "            (\"Margot\", [\"InfSys\", \"Accounting\", \"Economics\", \"CommLaw\"]),\n",
    "            (\"Peter\", [\"Sociology\", \"Economics\", \"Law\", \"Stats\", \"Music\"])]\n",
    "for (name,subjects) in students:\n",
    "    print(name,\"enrolled in\",len(subjects),\"courses and thoseare\",subjects)"
   ]
  },
  {
   "cell_type": "code",
   "execution_count": 6,
   "metadata": {},
   "outputs": [
    {
     "name": "stdout",
     "output_type": "stream",
     "text": [
      "The number of students taking CompSci is 3 and those names are Alejandro,Justin,Ed,\n"
     ]
    }
   ],
   "source": [
    "counter = 0\n",
    "lis = \"\"\n",
    "for (name,subjects) in students:\n",
    "    for s in subjects:\n",
    "        if s==\"CompSci\":\n",
    "            counter+=1\n",
    "            lis+=(name+\",\")\n",
    "print(\"The number of students taking CompSci is\", counter,\"and those names are\",lis)"
   ]
  },
  {
   "cell_type": "code",
   "execution_count": 44,
   "metadata": {},
   "outputs": [],
   "source": [
    "def do_nothing_useful(n, m):\n",
    "        x = n + m\n",
    "        y = n - m\n",
    "        return x\n",
    "        print(y)\n",
    "    "
   ]
  },
  {
   "cell_type": "code",
   "execution_count": 45,
   "metadata": {},
   "outputs": [
    {
     "data": {
      "text/plain": [
       "7"
      ]
     },
     "execution_count": 45,
     "metadata": {},
     "output_type": "execute_result"
    }
   ],
   "source": [
    " do_nothing_useful(3, 4)"
   ]
  },
  {
   "cell_type": "code",
   "execution_count": 11,
   "metadata": {},
   "outputs": [
    {
     "name": "stdout",
     "output_type": "stream",
     "text": [
      " my name is Ankit\n"
     ]
    }
   ],
   "source": [
    "print(\" my name is {}\".format('Ankit'))"
   ]
  },
  {
   "cell_type": "code",
   "execution_count": 1,
   "metadata": {},
   "outputs": [
    {
     "name": "stdout",
     "output_type": "stream",
     "text": [
      "Eeny\n",
      "Meeny\n",
      "Miny\n",
      "Moe\n"
     ]
    }
   ],
   "source": [
    "def f1():\n",
    "    print(\"Moe\")\n",
    "\n",
    "def f2():\n",
    "    f4()\n",
    "    print(\"Meeny\")\n",
    "\n",
    "def f3():\n",
    "    f2()\n",
    "    print(\"Miny\")\n",
    "    f1()\n",
    "\n",
    "def f4():\n",
    "    print(\"Eeny\")\n",
    "\n",
    "f3()"
   ]
  },
  {
   "cell_type": "code",
   "execution_count": 20,
   "metadata": {},
   "outputs": [
    {
     "name": "stdout",
     "output_type": "stream",
     "text": [
      "*****\n",
      " ****\n",
      "  ***\n",
      "   **\n",
      "    *\n"
     ]
    }
   ],
   "source": [
    "n=5\n",
    "for i in range(n,0,-1):\n",
    "    print((n-i)*\" \"+i*'*')"
   ]
  },
  {
   "cell_type": "code",
   "execution_count": 29,
   "metadata": {},
   "outputs": [],
   "source": [
    "def print_multiples(n):\n",
    "    for i in range(1,7):\n",
    "        print(n*i,end=\"  \")\n",
    "    print()"
   ]
  },
  {
   "cell_type": "code",
   "execution_count": 30,
   "metadata": {},
   "outputs": [
    {
     "name": "stdout",
     "output_type": "stream",
     "text": [
      "1  2  3  4  5  6  \n",
      "2  4  6  8  10  12  \n",
      "3  6  9  12  15  18  \n",
      "4  8  12  16  20  24  \n",
      "5  10  15  20  25  30  \n",
      "6  12  18  24  30  36  \n"
     ]
    }
   ],
   "source": [
    "for i in range(1,7):\n",
    "    print_multiples(i)"
   ]
  },
  {
   "cell_type": "code",
   "execution_count": 50,
   "metadata": {},
   "outputs": [],
   "source": [
    "def recursive_sum(the_list):\n",
    "    sum1=0\n",
    "    for element in the_list:\n",
    "        if type(element)==list:\n",
    "            sum1+=recursive_sum(element)\n",
    "        else:\n",
    "            sum1+=element\n",
    "    return (sum1)    "
   ]
  },
  {
   "cell_type": "code",
   "execution_count": 51,
   "metadata": {},
   "outputs": [
    {
     "data": {
      "text/plain": [
       "41"
      ]
     },
     "execution_count": 51,
     "metadata": {},
     "output_type": "execute_result"
    }
   ],
   "source": [
    "recursive_sum([2,4,5,[8,9,8],5])"
   ]
  },
  {
   "cell_type": "code",
   "execution_count": 46,
   "metadata": {},
   "outputs": [],
   "source": [
    "def recursive1_sum(nested_num_list):\n",
    "    the_sum = 0\n",
    "    for element in nested_num_list:\n",
    "        if type(element) == list:\n",
    "            the_sum = the_sum + recursive1_sum(element)\n",
    "        else:\n",
    "            the_sum = the_sum + element\n",
    "    return the_sum"
   ]
  },
  {
   "cell_type": "code",
   "execution_count": 47,
   "metadata": {},
   "outputs": [
    {
     "data": {
      "text/plain": [
       "41"
      ]
     },
     "execution_count": 47,
     "metadata": {},
     "output_type": "execute_result"
    }
   ],
   "source": [
    "recursive1_sum([2,4,5,[8,9,8],5])"
   ]
  },
  {
   "cell_type": "code",
   "execution_count": 52,
   "metadata": {},
   "outputs": [
    {
     "data": {
      "text/plain": [
       "list"
      ]
     },
     "execution_count": 52,
     "metadata": {},
     "output_type": "execute_result"
    }
   ],
   "source": [
    "type([])"
   ]
  },
  {
   "cell_type": "code",
   "execution_count": 53,
   "metadata": {},
   "outputs": [],
   "source": [
    "def recursive_max(nested_num_list):\n",
    "    \"\"\"\n",
    "      >>> recursive_max([2, 9, [1, 13], 8, 6])\n",
    "      13\n",
    "      >>> recursive_max([2, [[100, 7], 90], [1, 13], 8, 6])\n",
    "      100\n",
    "      >>> recursive_max([2, [[13, 7], 90], [1, 100], 8, 6])\n",
    "      100\n",
    "      >>> recursive_max([[[13, 7], 90], 2, [1, 100], 8, 6])\n",
    "      100\n",
    "    \"\"\"\n",
    "    largest = nested_num_list[0]\n",
    "    while type(largest) == type([]):\n",
    "        largest = largest[0]\n",
    "\n",
    "    for element in nested_num_list:\n",
    "        if type(element) == type([]):\n",
    "            max_of_elem = recursive_max(element)\n",
    "            if largest < max_of_elem:\n",
    "                largest = max_of_elem\n",
    "        else:                           # element is not a list\n",
    "            if largest < element:\n",
    "                largest = element\n",
    "\n",
    "    return largest"
   ]
  },
  {
   "cell_type": "code",
   "execution_count": 54,
   "metadata": {},
   "outputs": [
    {
     "data": {
      "text/plain": [
       "13"
      ]
     },
     "execution_count": 54,
     "metadata": {},
     "output_type": "execute_result"
    }
   ],
   "source": [
    "recursive_max([2, 9, [1, 13], 8, 6])"
   ]
  },
  {
   "cell_type": "code",
   "execution_count": 75,
   "metadata": {},
   "outputs": [
    {
     "ename": "TypeError",
     "evalue": "exceptions must derive from BaseException",
     "output_type": "error",
     "traceback": [
      "\u001b[1;31m---------------------------------------------------------------------------\u001b[0m",
      "\u001b[1;31mTypeError\u001b[0m                                 Traceback (most recent call last)",
      "\u001b[1;32m<ipython-input-75-b4b342e5b6fc>\u001b[0m in \u001b[0;36m<module>\u001b[1;34m\u001b[0m\n\u001b[0;32m      4\u001b[0m     \u001b[1;32melse\u001b[0m\u001b[1;33m:\u001b[0m\u001b[1;33m\u001b[0m\u001b[1;33m\u001b[0m\u001b[0m\n\u001b[0;32m      5\u001b[0m         \u001b[1;32mreturn\u001b[0m \u001b[0mage\u001b[0m\u001b[1;33m\u001b[0m\u001b[1;33m\u001b[0m\u001b[0m\n\u001b[1;32m----> 6\u001b[1;33m \u001b[0mget_age\u001b[0m\u001b[1;33m(\u001b[0m\u001b[1;36m0\u001b[0m\u001b[1;33m)\u001b[0m\u001b[1;33m\u001b[0m\u001b[1;33m\u001b[0m\u001b[0m\n\u001b[0m",
      "\u001b[1;32m<ipython-input-75-b4b342e5b6fc>\u001b[0m in \u001b[0;36mget_age\u001b[1;34m(age)\u001b[0m\n\u001b[0;32m      1\u001b[0m \u001b[1;32mdef\u001b[0m \u001b[0mget_age\u001b[0m\u001b[1;33m(\u001b[0m\u001b[0mage\u001b[0m\u001b[1;33m)\u001b[0m\u001b[1;33m:\u001b[0m\u001b[1;33m\u001b[0m\u001b[1;33m\u001b[0m\u001b[0m\n\u001b[0;32m      2\u001b[0m     \u001b[1;32mif\u001b[0m \u001b[0mage\u001b[0m \u001b[1;33m<\u001b[0m \u001b[1;36m1\u001b[0m\u001b[1;33m:\u001b[0m\u001b[1;33m\u001b[0m\u001b[1;33m\u001b[0m\u001b[0m\n\u001b[1;32m----> 3\u001b[1;33m         \u001b[1;32mraise\u001b[0m\u001b[1;33m(\u001b[0m\u001b[0mValueError\u001b[0m\u001b[1;33m,\u001b[0m \u001b[1;34m'%s is not a valid age'\u001b[0m \u001b[1;33m%\u001b[0m \u001b[0mage\u001b[0m\u001b[1;33m)\u001b[0m\u001b[1;33m\u001b[0m\u001b[1;33m\u001b[0m\u001b[0m\n\u001b[0m\u001b[0;32m      4\u001b[0m     \u001b[1;32melse\u001b[0m\u001b[1;33m:\u001b[0m\u001b[1;33m\u001b[0m\u001b[1;33m\u001b[0m\u001b[0m\n\u001b[0;32m      5\u001b[0m         \u001b[1;32mreturn\u001b[0m \u001b[0mage\u001b[0m\u001b[1;33m\u001b[0m\u001b[1;33m\u001b[0m\u001b[0m\n",
      "\u001b[1;31mTypeError\u001b[0m: exceptions must derive from BaseException"
     ]
    }
   ],
   "source": [
    "def get_age(age):\n",
    "    if age < 1:\n",
    "        raise(ValueError, '%s is not a valid age' % age)\n",
    "    else:\n",
    "        return age\n",
    "get_age(0)"
   ]
  },
  {
   "cell_type": "code",
   "execution_count": 76,
   "metadata": {},
   "outputs": [
    {
     "name": "stdout",
     "output_type": "stream",
     "text": [
      "5\n",
      "4\n",
      "3\n",
      "2\n",
      "1\n",
      "Blastoff!\n"
     ]
    }
   ],
   "source": [
    "def countdown(n):\n",
    "    if n == 0:\n",
    "        print(\"Blastoff!\")\n",
    "    else:\n",
    "        print(n)\n",
    "        countdown(n-1)\n",
    "countdown(5)"
   ]
  },
  {
   "cell_type": "code",
   "execution_count": 78,
   "metadata": {},
   "outputs": [
    {
     "data": {
      "text/plain": [
       "10"
      ]
     },
     "execution_count": 78,
     "metadata": {},
     "output_type": "execute_result"
    }
   ],
   "source": [
    "def find_max(seq, max_so_far):\n",
    "    if not seq:\n",
    "        return max_so_far\n",
    "    if max_so_far < seq[0]:\n",
    "        return find_max(seq[1:], seq[0])\n",
    "    else:\n",
    "        return find_max(seq[1:], max_so_far)\n",
    "find_max([9,6,8,5,2],10)"
   ]
  },
  {
   "cell_type": "code",
   "execution_count": 82,
   "metadata": {},
   "outputs": [
    {
     "data": {
      "text/plain": [
       "120"
      ]
     },
     "execution_count": 82,
     "metadata": {},
     "output_type": "execute_result"
    }
   ],
   "source": [
    "def factorial(n):\n",
    "    if n == 0:\n",
    "        return 1\n",
    "    else:\n",
    "        return n * factorial(n-1)\n",
    "    \n",
    "factorial(5)"
   ]
  },
  {
   "cell_type": "code",
   "execution_count": 108,
   "metadata": {},
   "outputs": [
    {
     "data": {
      "text/plain": [
       "21"
      ]
     },
     "execution_count": 108,
     "metadata": {},
     "output_type": "execute_result"
    }
   ],
   "source": [
    "def fibonacci (n):\n",
    "    if n == 0 or n == 1:\n",
    "        return 1\n",
    "    else:\n",
    "        return fibonacci(n-1) + fibonacci(n-2) #6 + 5\n",
    "fibonacci(7)"
   ]
  },
  {
   "cell_type": "code",
   "execution_count": 91,
   "metadata": {},
   "outputs": [
    {
     "data": {
      "text/plain": [
       "(1, 1, 2, 3, 5, 8, 13, 21, 34)"
      ]
     },
     "execution_count": 91,
     "metadata": {},
     "output_type": "execute_result"
    }
   ],
   "source": [
    "1,1,2,3,5,8,13,21,34"
   ]
  },
  {
   "cell_type": "code",
   "execution_count": 118,
   "metadata": {},
   "outputs": [
    {
     "name": "stdout",
     "output_type": "stream",
     "text": [
      "0\n",
      "1\n",
      "1\n",
      "2\n",
      "3\n",
      "5\n",
      "8\n",
      "13\n"
     ]
    }
   ],
   "source": [
    "def fibonacci(n):\n",
    "        if n==0:\n",
    "            return 0\n",
    "        elif n==1:\n",
    "            return 1\n",
    "        else:\n",
    "            return fibonacci(n-2) + fibonacci(n-1)\n",
    "        \n",
    "\n",
    "for i in range(0,8):\n",
    "    print(fibonacci(i))"
   ]
  },
  {
   "cell_type": "code",
   "execution_count": 120,
   "metadata": {},
   "outputs": [
    {
     "name": "stdout",
     "output_type": "stream",
     "text": [
      "1\n",
      "1\n",
      "2\n",
      "6\n",
      "24\n",
      "120\n",
      "720\n",
      "5040\n"
     ]
    }
   ],
   "source": [
    "def factori(n):\n",
    "        if n==0:\n",
    "            return 1\n",
    "        elif n==1:\n",
    "            return 1\n",
    "        else:\n",
    "            return n*factori(n-1)\n",
    "        \n",
    "\n",
    "for i in range(0,8):\n",
    "    print(factori(i))"
   ]
  },
  {
   "cell_type": "code",
   "execution_count": 8,
   "metadata": {},
   "outputs": [
    {
     "name": "stdout",
     "output_type": "stream",
     "text": [
      "[0, 1, 2, 3, 4, 5, 6, 7, 8, 9, 10, 11, 12, 13, 14, 15, 16, 17, 18, 19]\n"
     ]
    },
    {
     "data": {
      "text/plain": [
       "264"
      ]
     },
     "execution_count": 8,
     "metadata": {},
     "output_type": "execute_result"
    }
   ],
   "source": [
    "import sys\n",
    "list1 = []\n",
    "for x in range(20):\n",
    "    list1.append(x)\n",
    "print(list1)\n",
    "sys.getsizeof(list1)"
   ]
  },
  {
   "cell_type": "markdown",
   "metadata": {},
   "source": [
    "# Anagram solution:\n",
    "Given two strings, check to see if they are anagrams. An anagram is when the two strings can be written using the exact same letters (so you can just rearrange the letters to get a different phrase or word).\n",
    "\n",
    "For example:\n",
    "\n",
    "\"public relations\" is an anagram of \"crap built on lies.\"\n",
    "\n",
    "\"clint eastwood\" is an anagram of \"old west action\""
   ]
  },
  {
   "cell_type": "code",
   "execution_count": 19,
   "metadata": {},
   "outputs": [],
   "source": [
    "def anagram(s1,s2):\n",
    "    s1 = s1.replace(\" \",\"\")\n",
    "    s2 = s2.replace(\" \",\"\")\n",
    "    return sorted(s1) == sorted(s2)"
   ]
  },
  {
   "cell_type": "code",
   "execution_count": 20,
   "metadata": {},
   "outputs": [
    {
     "data": {
      "text/plain": [
       "False"
      ]
     },
     "execution_count": 20,
     "metadata": {},
     "output_type": "execute_result"
    }
   ],
   "source": [
    "anagram(\"sunny\",\"yashwanth\")"
   ]
  },
  {
   "cell_type": "code",
   "execution_count": 21,
   "metadata": {},
   "outputs": [
    {
     "data": {
      "text/plain": [
       "True"
      ]
     },
     "execution_count": 21,
     "metadata": {},
     "output_type": "execute_result"
    }
   ],
   "source": [
    "anagram(\"god\",\"dog\")"
   ]
  },
  {
   "cell_type": "code",
   "execution_count": 22,
   "metadata": {},
   "outputs": [],
   "source": [
    "def anagram1(s1,s2):\n",
    "    s1 = s1.replace(\" \",\"\")\n",
    "    s2 = s2.replace(\" \",\"\")\n",
    "    \n",
    "    if len(s1) != len(s2):\n",
    "        return False\n",
    "    count = {}\n",
    "    for letter in s1:\n",
    "        if letter in count:\n",
    "            count[letter] += 1\n",
    "        else:\n",
    "            count[letter] = 1\n",
    "    for letter in s2:\n",
    "        if letter in count:\n",
    "            count[letter] -= 1\n",
    "        else:\n",
    "            count[letter] = 1\n",
    "    for k in count:\n",
    "        if count[k] != 0:\n",
    "            return False\n",
    "        return True"
   ]
  },
  {
   "cell_type": "code",
   "execution_count": 23,
   "metadata": {},
   "outputs": [
    {
     "data": {
      "text/plain": [
       "True"
      ]
     },
     "execution_count": 23,
     "metadata": {},
     "output_type": "execute_result"
    }
   ],
   "source": [
    "anagram1(\"ram\",\"mar\")"
   ]
  },
  {
   "cell_type": "code",
   "execution_count": 26,
   "metadata": {},
   "outputs": [
    {
     "name": "stdout",
     "output_type": "stream",
     "text": [
      "ALL TEST CASES PASSED\n"
     ]
    }
   ],
   "source": [
    "from nose.tools import assert_equal\n",
    "\n",
    "class AnagramTest(object):\n",
    "    def test(self,sol):\n",
    "        assert_equal(sol(\"god\",\"dog\"),True)\n",
    "        assert_equal(sol(\"go go go\",\"gggooo\"),True)\n",
    "        assert_equal(sol('hi man','hi     man'),True)\n",
    "        assert_equal(sol('aabbcc','aabbc'),False)\n",
    "        assert_equal(sol('123','1 2'),False)\n",
    "        print('ALL TEST CASES PASSED')\n",
    "        \n",
    "t = AnagramTest()\n",
    "t.test(anagram)"
   ]
  },
  {
   "cell_type": "code",
   "execution_count": 27,
   "metadata": {},
   "outputs": [
    {
     "name": "stdout",
     "output_type": "stream",
     "text": [
      "ALL TEST CASES PASSED\n"
     ]
    }
   ],
   "source": [
    "t.test(anagram1)"
   ]
  },
  {
   "cell_type": "markdown",
   "metadata": {},
   "source": [
    "# Array_pair_sum\n",
    "Given an integer array, output all the unique pairs that sum up to a specific value k.\n",
    "\n",
    "So the input:\n",
    "\n",
    "pair_sum([1,3,2,2],4)\n",
    "\n",
    "would return 2 pairs:\n",
    "\n",
    " (1,3)\n",
    " (2,2)"
   ]
  },
  {
   "cell_type": "code",
   "execution_count": 11,
   "metadata": {},
   "outputs": [],
   "source": [
    "def pair_sum(arr,k):\n",
    "    counter = 0\n",
    "    lookup =set()\n",
    "    for num in arr:\n",
    "        if k-num in lookup:\n",
    "            counter+=1\n",
    "        else:\n",
    "            lookup.add(num)\n",
    "    return counter"
   ]
  },
  {
   "cell_type": "code",
   "execution_count": 13,
   "metadata": {},
   "outputs": [
    {
     "data": {
      "text/plain": [
       "2"
      ]
     },
     "execution_count": 13,
     "metadata": {},
     "output_type": "execute_result"
    }
   ],
   "source": [
    "pair_sum([1,3,2,2],5)"
   ]
  },
  {
   "cell_type": "code",
   "execution_count": 43,
   "metadata": {},
   "outputs": [
    {
     "name": "stdout",
     "output_type": "stream",
     "text": [
      "ALL TEST CASES PASSED\n"
     ]
    }
   ],
   "source": [
    "from nose.tools import assert_equal\n",
    "\n",
    "class TestPair(object):\n",
    "    \n",
    "    def test(self,sol):\n",
    "        assert_equal(sol([1,9,2,8,3,7,4,6,5,5,13,14,11,13,-1],10),6)\n",
    "        assert_equal(sol([1,2,3,1],3),1)\n",
    "        assert_equal(sol([1,3,2,2],4),2)\n",
    "        print('ALL TEST CASES PASSED')\n",
    "        \n",
    "#Run tests\n",
    "t = TestPair()\n",
    "t.test(pair_sum)"
   ]
  },
  {
   "cell_type": "markdown",
   "metadata": {},
   "source": [
    "# Find the Missing element\n",
    "Consider an array of non-negative integers. A second array is formed by shuffling the elements of the first array and deleting a random element. Given these two arrays, find which element is missing in the second array.\n",
    "\n",
    "Here is an example input, the first array is shuffled and the number 5 is removed to construct the second array.\n",
    "\n",
    "Input:\n",
    "\n",
    "finder([1,2,3,4,5,6,7],[3,7,2,1,4,6])\n",
    "\n",
    "Output:\n",
    "\n",
    "5 is the missing number"
   ]
  },
  {
   "cell_type": "code",
   "execution_count": 28,
   "metadata": {},
   "outputs": [],
   "source": [
    "def missing_ele(arr1,arr2):\n",
    "    arr1.sort()\n",
    "    arr2.sort()\n",
    "    for num1,num2 in zip(arr1,arr2):\n",
    "        if num1 != num2:\n",
    "            return num1\n",
    "    print(\"there are no missing values\")"
   ]
  },
  {
   "cell_type": "code",
   "execution_count": 32,
   "metadata": {},
   "outputs": [
    {
     "data": {
      "text/plain": [
       "5"
      ]
     },
     "execution_count": 32,
     "metadata": {},
     "output_type": "execute_result"
    }
   ],
   "source": [
    "arr1 = [1,2,3,4,5,6,7]\n",
    "arr2 = [3,7,2,1,4,6]\n",
    "missing_ele(arr1,arr2)"
   ]
  },
  {
   "cell_type": "code",
   "execution_count": 34,
   "metadata": {},
   "outputs": [
    {
     "data": {
      "text/plain": [
       "5"
      ]
     },
     "execution_count": 34,
     "metadata": {},
     "output_type": "execute_result"
    }
   ],
   "source": [
    "import collections\n",
    "def finder(arr1,arr2):\n",
    "    d = collections.defaultdict(int)\n",
    "    for num in arr2:\n",
    "        d[num]+=1\n",
    "    for num in arr1:\n",
    "        if d[num]==0:\n",
    "            return num\n",
    "        else:\n",
    "            d[num]-=1\n",
    "finder(arr1,arr2)"
   ]
  },
  {
   "cell_type": "code",
   "execution_count": 44,
   "metadata": {},
   "outputs": [
    {
     "data": {
      "text/plain": [
       "5"
      ]
     },
     "execution_count": 44,
     "metadata": {},
     "output_type": "execute_result"
    }
   ],
   "source": [
    "def finder3(arr1, arr2): \n",
    "    result=0 \n",
    "    \n",
    "    # Perform an XOR between the numbers in the arrays\n",
    "    for num in arr1+arr2: \n",
    "        result^=num\n",
    "        \n",
    "    return result \n",
    "finder3(arr1,arr2)"
   ]
  },
  {
   "cell_type": "markdown",
   "metadata": {},
   "source": [
    "# Largest continuous sum\n",
    "Given an array of integers (positive and negative) find the largest continuous sum."
   ]
  },
  {
   "cell_type": "code",
   "execution_count": 48,
   "metadata": {},
   "outputs": [
    {
     "data": {
      "text/plain": [
       "26"
      ]
     },
     "execution_count": 48,
     "metadata": {},
     "output_type": "execute_result"
    }
   ],
   "source": [
    "def largest_cont(arr):\n",
    "    if len(arr) == 0:\n",
    "        return 0\n",
    "    max_sum = current_sum = arr[0]\n",
    "    for num in arr[1:]:\n",
    "        current_sum = max(current_sum+num,num)\n",
    "        max_sum = max(current_sum,max_sum)\n",
    "    return max_sum\n",
    "\n",
    "largest_cont([2,5,9,6,4,-10])\n",
    "        "
   ]
  },
  {
   "cell_type": "markdown",
   "metadata": {},
   "source": [
    "# Sentence reversal"
   ]
  },
  {
   "cell_type": "code",
   "execution_count": 53,
   "metadata": {},
   "outputs": [
    {
     "data": {
      "text/plain": [
       "'yaswanth is name My'"
      ]
     },
     "execution_count": 53,
     "metadata": {},
     "output_type": "execute_result"
    }
   ],
   "source": [
    "def reverse_sen(s):\n",
    "    return \" \".join(reversed(s.split()))\n",
    "s=\"My name is yaswanth\"\n",
    "reverse_sen(s)"
   ]
  },
  {
   "cell_type": "code",
   "execution_count": 65,
   "metadata": {},
   "outputs": [],
   "source": [
    "def reverse_sen1(s):\n",
    "    words = []\n",
    "    length = len(s)\n",
    "    spaces = [\" \"]\n",
    "    i=0\n",
    "    while i<length:\n",
    "        if s[i] not in spaces:\n",
    "            word_start = i\n",
    "            while i<length and s[i] not in spaces:\n",
    "                i+=1\n",
    "            words.append(s[word_start:i])\n",
    "        i+=1\n",
    "    return \" \".join(reversed(words))\n",
    "            "
   ]
  },
  {
   "cell_type": "code",
   "execution_count": 66,
   "metadata": {},
   "outputs": [
    {
     "data": {
      "text/plain": [
       "'yaswanth is name My'"
      ]
     },
     "execution_count": 66,
     "metadata": {},
     "output_type": "execute_result"
    }
   ],
   "source": [
    "reverse_sen1(s)"
   ]
  },
  {
   "cell_type": "code",
   "execution_count": 69,
   "metadata": {},
   "outputs": [
    {
     "data": {
      "text/plain": [
       "[2, 3, 4, 5]"
      ]
     },
     "execution_count": 69,
     "metadata": {},
     "output_type": "execute_result"
    }
   ],
   "source": [
    "numbers = [1,2,3,4]\n",
    "list(map(lambda x:x+1,numbers))"
   ]
  },
  {
   "cell_type": "code",
   "execution_count": 73,
   "metadata": {},
   "outputs": [
    {
     "name": "stdout",
     "output_type": "stream",
     "text": [
      "numbers id: 2785767754696, new_numbers id: 2785767754696\n"
     ]
    },
    {
     "data": {
      "text/plain": [
       "True"
      ]
     },
     "execution_count": 73,
     "metadata": {},
     "output_type": "execute_result"
    }
   ],
   "source": [
    "numbers = [1, 2, 3, 4, 5]\n",
    "\n",
    "# new list of numbers\n",
    "new_numbers = numbers\n",
    "\n",
    "# both list have the same id number\n",
    "print('numbers id: {}, new_numbers id: {}'.format(id(numbers), id(new_numbers)))\n",
    "# numbers id: 1836112528136, new_numbers id: 1836112528136\n",
    "\n",
    "# we can also check that they refer to the same object with the identity operator is\n",
    "numbers is new_numbers"
   ]
  },
  {
   "cell_type": "code",
   "execution_count": 78,
   "metadata": {},
   "outputs": [
    {
     "data": {
      "text/plain": [
       "False"
      ]
     },
     "execution_count": 78,
     "metadata": {},
     "output_type": "execute_result"
    }
   ],
   "source": [
    "import copy\n",
    "num1 = [1,2,3,4,5]\n",
    "new_num = copy.deepcopy(num1)\n",
    "num1 is new_num"
   ]
  },
  {
   "cell_type": "code",
   "execution_count": 88,
   "metadata": {},
   "outputs": [
    {
     "data": {
      "text/plain": [
       "'0x32'"
      ]
     },
     "execution_count": 88,
     "metadata": {},
     "output_type": "execute_result"
    }
   ],
   "source": [
    "hex(50)"
   ]
  },
  {
   "cell_type": "code",
   "execution_count": 92,
   "metadata": {},
   "outputs": [],
   "source": [
    "def uni_char2(s):\n",
    "    chars = set()\n",
    "    for let in s:\n",
    "        # Check if in set\n",
    "        if let in chars:\n",
    "            return False\n",
    "        else:\n",
    "            #Add it to the set\n",
    "            chars.add(let)\n",
    "    return True"
   ]
  },
  {
   "cell_type": "code",
   "execution_count": 95,
   "metadata": {},
   "outputs": [
    {
     "data": {
      "text/plain": [
       "True"
      ]
     },
     "execution_count": 95,
     "metadata": {},
     "output_type": "execute_result"
    }
   ],
   "source": [
    "uni_char2(\"bcv\")"
   ]
  },
  {
   "cell_type": "markdown",
   "metadata": {},
   "source": [
    "# String Compression\n",
    "Given a string in the form 'AAAABBBBCCCCCDDEEEE' compress it to become 'A4B4C5D2E4'. For this problem, you can falsely \"compress\" strings of single or double letters. For instance, it is okay for 'AAB' to return 'A2B1' even though this technically takes more space.\n",
    "\n",
    "The function should also be case sensitive, so that a string 'AAAaaa' returns 'A3a3'."
   ]
  },
  {
   "cell_type": "code",
   "execution_count": 4,
   "metadata": {},
   "outputs": [
    {
     "data": {
      "text/plain": [
       "'A3B1C2'"
      ]
     },
     "execution_count": 4,
     "metadata": {},
     "output_type": "execute_result"
    }
   ],
   "source": [
    "def str_comp(s):\n",
    "    r = \"\"\n",
    "    l = len(s)\n",
    "    \n",
    "    if l == 0:\n",
    "        return \"\"\n",
    "    if l == 1:\n",
    "        return s + \"1\"\n",
    "    i=1\n",
    "    count = 1\n",
    "    while i<l:\n",
    "        if s[i] == s[i-1]:\n",
    "            count+=1\n",
    "        else:\n",
    "            r = r+s[i-1]+str(count)\n",
    "            count =1\n",
    "        i+=1\n",
    "    r = r+s[i-1]+str(count)\n",
    "    return r\n",
    "str_comp(\"AAABCC\")"
   ]
  },
  {
   "cell_type": "markdown",
   "metadata": {},
   "source": [
    "# Unique Characters in String\n",
    "Given a string,determine if it is compreised of all unique characters. For example, the string 'abcde' has all unique characters and should return True. The string 'aabcde' contains duplicate characters and should return false."
   ]
  },
  {
   "cell_type": "code",
   "execution_count": 15,
   "metadata": {},
   "outputs": [
    {
     "data": {
      "text/plain": [
       "True"
      ]
     },
     "execution_count": 15,
     "metadata": {},
     "output_type": "execute_result"
    }
   ],
   "source": [
    "def unique_char(s):\n",
    "    return len(set(s)) == len(s)\n",
    "unique_char(\"abc\")"
   ]
  },
  {
   "cell_type": "code",
   "execution_count": 34,
   "metadata": {},
   "outputs": [
    {
     "data": {
      "text/plain": [
       "False"
      ]
     },
     "execution_count": 34,
     "metadata": {},
     "output_type": "execute_result"
    }
   ],
   "source": [
    "def unique_char1(s):\n",
    "    chars = set()\n",
    "    for l in s:\n",
    "        if l in chars:\n",
    "            return False\n",
    "        else:\n",
    "            chars.add(l)\n",
    "    return True\n",
    "unique_char1(\"abcc\")"
   ]
  },
  {
   "cell_type": "code",
   "execution_count": 41,
   "metadata": {},
   "outputs": [
    {
     "name": "stdout",
     "output_type": "stream",
     "text": [
      "True\n"
     ]
    }
   ],
   "source": [
    "v = \"sunny is a good boy\"\n",
    "print(v.startswith(\"s\"))"
   ]
  },
  {
   "cell_type": "code",
   "execution_count": 44,
   "metadata": {},
   "outputs": [
    {
     "data": {
      "text/plain": [
       "'sunny'"
      ]
     },
     "execution_count": 44,
     "metadata": {},
     "output_type": "execute_result"
    }
   ],
   "source": [
    "s= ['sunny']\n",
    "s[-1]"
   ]
  },
  {
   "cell_type": "code",
   "execution_count": 1,
   "metadata": {},
   "outputs": [
    {
     "name": "stdout",
     "output_type": "stream",
     "text": [
      "john\n",
      "dog\n",
      "sunny\n",
      "cat\n"
     ]
    }
   ],
   "source": [
    "persons = [{\"name\":\"john\",\"pet\":\"dog\"},{\"name\":\"sunny\",\"pet\":\"cat\"}]\n",
    "for person in persons:\n",
    "    for item in person.items():\n",
    "        print(item[1])\n",
    "        "
   ]
  },
  {
   "cell_type": "code",
   "execution_count": null,
   "metadata": {},
   "outputs": [],
   "source": []
  }
 ],
 "metadata": {
  "kernelspec": {
   "display_name": "Python 3",
   "language": "python",
   "name": "python3"
  },
  "language_info": {
   "codemirror_mode": {
    "name": "ipython",
    "version": 3
   },
   "file_extension": ".py",
   "mimetype": "text/x-python",
   "name": "python",
   "nbconvert_exporter": "python",
   "pygments_lexer": "ipython3",
   "version": "3.7.6"
  }
 },
 "nbformat": 4,
 "nbformat_minor": 4
}
