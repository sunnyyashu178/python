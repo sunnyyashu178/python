{
 "cells": [
  {
   "cell_type": "code",
   "execution_count": null,
   "metadata": {},
   "outputs": [],
   "source": [
    "def bsearch(list,idx0,idxn,val):\n",
    "    \n",
    "    if idxn < idx0:\n",
    "        return -1\n",
    "    \n",
    "    else:\n",
    "        midval = (idx0 + idxn) // 2\n",
    "        \n",
    "        if list[midval] > val:\n",
    "            return bsearch(list,idx0,midval-1,val)\n",
    "        \n",
    "        elif list[midval] < val:\n",
    "            return bsearch(list,midval+1,idxn,val)\n",
    "        \n",
    "        else:\n",
    "            return midval\n",
    "        \n",
    "list = [8,11,24,56,88,131]\n",
    "\n",
    "bsearch(list,0,5,88)"
   ]
  },
  {
   "cell_type": "code",
   "execution_count": null,
   "metadata": {},
   "outputs": [],
   "source": []
  },
  {
   "cell_type": "code",
   "execution_count": null,
   "metadata": {},
   "outputs": [],
   "source": []
  },
  {
   "cell_type": "code",
   "execution_count": null,
   "metadata": {},
   "outputs": [],
   "source": []
  }
 ],
 "metadata": {
  "kernelspec": {
   "display_name": "Python 3",
   "language": "python",
   "name": "python3"
  },
  "language_info": {
   "codemirror_mode": {
    "name": "ipython",
    "version": 3
   },
   "file_extension": ".py",
   "mimetype": "text/x-python",
   "name": "python",
   "nbconvert_exporter": "python",
   "pygments_lexer": "ipython3",
   "version": "3.8.5"
  }
 },
 "nbformat": 4,
 "nbformat_minor": 4
}
