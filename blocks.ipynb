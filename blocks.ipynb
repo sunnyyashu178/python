{
 "cells": [
  {
   "cell_type": "code",
   "execution_count": 3,
   "metadata": {},
   "outputs": [
    {
     "name": "stdout",
     "output_type": "stream",
     "text": [
      "No. 1 squared is 1 and cubed is    1\n",
      "No. 2 squared is 4 and cubed is    8\n",
      "No. 3 squared is 9 and cubed is   27\n",
      "No. 4 squared is 16 and cubed is   64\n",
      "No. 5 squared is 25 and cubed is  125\n",
      "No. 6 squared is 36 and cubed is  216\n",
      "No. 7 squared is 49 and cubed is  343\n",
      "No. 8 squared is 64 and cubed is  512\n",
      "No. 9 squared is 81 and cubed is  729\n",
      "No. 10 squared is 100 and cubed is 1000\n",
      "No. 11 squared is 121 and cubed is 1331\n",
      "No. 12 squared is 144 and cubed is 1728\n",
      "**************************************************\n"
     ]
    }
   ],
   "source": [
    "for i in range(1,13):\n",
    "    print(\"No. {} squared is {} and cubed is {:4}\".format(i,i**2,i**3))\n",
    "print(\"*\"*50)"
   ]
  },
  {
   "cell_type": "code",
   "execution_count": 12,
   "metadata": {},
   "outputs": [
    {
     "name": "stdout",
     "output_type": "stream",
     "text": [
      "please enter your name:sunny\n",
      "How old are you, sunny?900\n",
      "900\n",
      "Sorry, Yoda, you die in return of the jedi\n"
     ]
    }
   ],
   "source": [
    "name = input(\"please enter your name:\")\n",
    "age = int(input(\"How old are you, {0}?\".format(name)))\n",
    "print(age)\n",
    "\n",
    "if age < 18:\n",
    "    print(\"Please come back in {0} years\".format(18- age))\n",
    "\n",
    "elif age == 900:\n",
    "    print(\"Sorry, Yoda, you die in return of the jedi\")\n",
    "    \n",
    "\n",
    "else:\n",
    "    print(\"You are old enough to vote\")\n",
    "    print(\"Please put an X in the box\")\n",
    "        "
   ]
  },
  {
   "cell_type": "code",
   "execution_count": 24,
   "metadata": {},
   "outputs": [
    {
     "name": "stdout",
     "output_type": "stream",
     "text": [
      "please enter the guess number:2\n",
      "please guess higher:\n",
      "5\n",
      "you haven't guessed correctly\n"
     ]
    }
   ],
   "source": [
    "import random\n",
    "random_num = random.randint(0,5)\n",
    "\n",
    "guess = int(input(\"please enter the guess number:\"))\n",
    "\n",
    "if guess<random_num:\n",
    "    print(\"please guess higher:\")\n",
    "    guess = int(input())\n",
    "    if guess==random_num:\n",
    "        print(\"Wow,you have guessed correctly\")\n",
    "    else:\n",
    "        print(\"you haven't guessed correctly\")\n",
    "elif guess>random_num:\n",
    "    print(\"please guess lower:\")\n",
    "    guess = int(input())\n",
    "    if guess==random_num:\n",
    "        print(\"Wow,you have guessed correctly\")\n",
    "    else:\n",
    "        print(\"you haven't guessed correctly\")\n",
    "        \n",
    "else:\n",
    "    print(\"Wow! You got it in first guess\")\n",
    "    "
   ]
  },
  {
   "cell_type": "code",
   "execution_count": null,
   "metadata": {},
   "outputs": [],
   "source": [
    "  "
   ]
  },
  {
   "cell_type": "code",
   "execution_count": 3,
   "metadata": {},
   "outputs": [
    {
     "name": "stdout",
     "output_type": "stream",
     "text": [
      "1 is a Fibonacci Number\n",
      "2 is a Fibonacci Number\n",
      "3 is a Fibonacci Number\n",
      "4 is a not Fibonacci Number \n",
      "5 is a Fibonacci Number\n",
      "6 is a not Fibonacci Number \n",
      "7 is a not Fibonacci Number \n",
      "8 is a Fibonacci Number\n",
      "9 is a not Fibonacci Number \n",
      "10 is a not Fibonacci Number \n"
     ]
    }
   ],
   "source": [
    "import math\n",
    "\n",
    "def isPerfectSquare(x):\n",
    "    s = int(math.sqrt(x))\n",
    "    return s*s == x\n",
    "\n",
    "def isFibonacci(n):\n",
    "    return isPerfectSquare(5*n*n + 4) or isPerfectSquare(5*n*n - 4)\n",
    "\n",
    "for i in range(1,11):\n",
    "    if (isFibonacci(i) == True):\n",
    "        print(i,\"is a Fibonacci Number\")\n",
    "    else:\n",
    "        print(i,\"is a not Fibonacci Number \")"
   ]
  },
  {
   "cell_type": "code",
   "execution_count": 5,
   "metadata": {},
   "outputs": [
    {
     "data": {
      "text/plain": [
       "1.4142135623730951"
      ]
     },
     "execution_count": 5,
     "metadata": {},
     "output_type": "execute_result"
    }
   ],
   "source": [
    "math.sqrt(2)"
   ]
  },
  {
   "cell_type": "code",
   "execution_count": 6,
   "metadata": {},
   "outputs": [
    {
     "data": {
      "text/plain": [
       "2.0000000000000004"
      ]
     },
     "execution_count": 6,
     "metadata": {},
     "output_type": "execute_result"
    }
   ],
   "source": [
    "1.4142135623730951 * 1.4142135623730951/"
   ]
  },
  {
   "cell_type": "code",
   "execution_count": null,
   "metadata": {},
   "outputs": [],
   "source": []
  }
 ],
 "metadata": {
  "kernelspec": {
   "display_name": "Python 3",
   "language": "python",
   "name": "python3"
  },
  "language_info": {
   "codemirror_mode": {
    "name": "ipython",
    "version": 3
   },
   "file_extension": ".py",
   "mimetype": "text/x-python",
   "name": "python",
   "nbconvert_exporter": "python",
   "pygments_lexer": "ipython3",
   "version": "3.8.5"
  }
 },
 "nbformat": 4,
 "nbformat_minor": 4
}
