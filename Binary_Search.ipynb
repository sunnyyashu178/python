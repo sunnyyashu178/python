{
 "cells": [
  {
   "cell_type": "code",
   "execution_count": 17,
   "metadata": {},
   "outputs": [
    {
     "data": {
      "text/plain": [
       "-1"
      ]
     },
     "execution_count": 17,
     "metadata": {},
     "output_type": "execute_result"
    }
   ],
   "source": [
    "def bsearch(lst,val):\n",
    "    list_size = len(lst)-1\n",
    "    low = 0\n",
    "    mid = 0\n",
    "    high = list_size\n",
    "    \n",
    "    while low <= high:\n",
    "        mid = (low+high)//2\n",
    "        \n",
    "        if lst[mid] < val:\n",
    "            low = mid+1\n",
    "        \n",
    "        elif lst[mid] > val:\n",
    "            high = mid-1\n",
    "        \n",
    "        else:\n",
    "            return mid\n",
    "            \n",
    "    return -1\n",
    "    \n",
    "lst = [2,7,19,34,53,72]\n",
    "\n",
    "bsearch(lst,6)"
   ]
  },
  {
   "cell_type": "code",
   "execution_count": null,
   "metadata": {},
   "outputs": [],
   "source": []
  },
  {
   "cell_type": "code",
   "execution_count": null,
   "metadata": {},
   "outputs": [],
   "source": []
  },
  {
   "cell_type": "code",
   "execution_count": null,
   "metadata": {},
   "outputs": [],
   "source": []
  },
  {
   "cell_type": "code",
   "execution_count": null,
   "metadata": {},
   "outputs": [],
   "source": []
  },
  {
   "cell_type": "code",
   "execution_count": null,
   "metadata": {},
   "outputs": [],
   "source": []
  }
 ],
 "metadata": {
  "kernelspec": {
   "display_name": "Python 3",
   "language": "python",
   "name": "python3"
  },
  "language_info": {
   "codemirror_mode": {
    "name": "ipython",
    "version": 3
   },
   "file_extension": ".py",
   "mimetype": "text/x-python",
   "name": "python",
   "nbconvert_exporter": "python",
   "pygments_lexer": "ipython3",
   "version": "3.8.5"
  }
 },
 "nbformat": 4,
 "nbformat_minor": 4
}
