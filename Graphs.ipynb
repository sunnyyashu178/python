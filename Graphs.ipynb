{
 "cells": [
  {
   "cell_type": "code",
   "execution_count": 3,
   "metadata": {},
   "outputs": [],
   "source": [
    "graph_elements = {\"a\" : [\"b\",\"c\"],\n",
    "        \"b\" : [\"a\",\"d\"],\n",
    "        \"c\" : [\"a\",\"d\"],\n",
    "        \"d\" : [\"e\"],\n",
    "        \"e\" : [\"d\"]\n",
    "        }"
   ]
  },
  {
   "cell_type": "code",
   "execution_count": 4,
   "metadata": {},
   "outputs": [
    {
     "name": "stdout",
     "output_type": "stream",
     "text": [
      "{'a': ['b', 'c'], 'b': ['a', 'd'], 'c': ['a', 'd'], 'd': ['e'], 'e': ['d']}\n"
     ]
    }
   ],
   "source": [
    "print(graph_elements)"
   ]
  },
  {
   "cell_type": "code",
   "execution_count": 5,
   "metadata": {},
   "outputs": [],
   "source": [
    "class graph:\n",
    "    def __init__(self,gdict=None):\n",
    "        if gdict is None:\n",
    "            gdict = []\n",
    "        self.gdict = gdict\n",
    "        \n",
    "    def getVertices(self):\n",
    "        return list(self.gdict.keys())\n",
    "    \n",
    "g = graph(graph_elements)"
   ]
  },
  {
   "cell_type": "code",
   "execution_count": 7,
   "metadata": {},
   "outputs": [
    {
     "name": "stdout",
     "output_type": "stream",
     "text": [
      "['a', 'b', 'c', 'd', 'e']\n"
     ]
    }
   ],
   "source": [
    "print(g.getVertices())"
   ]
  },
  {
   "cell_type": "code",
   "execution_count": 8,
   "metadata": {},
   "outputs": [
    {
     "name": "stdout",
     "output_type": "stream",
     "text": [
      "[{'b', 'a'}, {'c', 'a'}, {'d', 'b'}, {'c', 'd'}, {'e', 'd'}]\n"
     ]
    }
   ],
   "source": [
    "class graph:\n",
    "    def __init__(self,gdict=None):\n",
    "        if gdict is None:\n",
    "            gdict = {}\n",
    "        self.gdict = gdict\n",
    "        \n",
    "    def edges(self):\n",
    "        return self.findedges()\n",
    "    \n",
    "    def findedges(self):\n",
    "        edgename = []\n",
    "        for vrtx in self.gdict:\n",
    "            for nxtvrtx in self.gdict[vrtx]:\n",
    "                if {nxtvrtx,vrtx} not in edgename:\n",
    "                    edgename.append({vrtx,nxtvrtx})\n",
    "        return edgename\n",
    "    \n",
    "\n",
    "g = graph(graph_elements)\n",
    "print(g.edges())"
   ]
  },
  {
   "cell_type": "code",
   "execution_count": 14,
   "metadata": {},
   "outputs": [
    {
     "name": "stdout",
     "output_type": "stream",
     "text": [
      "['a', 'b', 'c', 'd', 'e', 'f']\n"
     ]
    }
   ],
   "source": [
    "class graph:\n",
    "    \n",
    "    def __init__(self,gdict):\n",
    "        if gdict is None:\n",
    "            gdict = {}\n",
    "        self.gdict = gdict\n",
    "        \n",
    "    def getVertices(self):\n",
    "        return list(self.gdict.keys())\n",
    "    \n",
    "    def addVertices(self,vrtx):\n",
    "        if vrtx not in self.gdict:\n",
    "            self.gdict[vrtx] = []\n",
    "            \n",
    "g = graph(graph_elements)\n",
    "g.addVertices(\"f\")\n",
    "print(g.getVertices())"
   ]
  },
  {
   "cell_type": "code",
   "execution_count": null,
   "metadata": {},
   "outputs": [],
   "source": []
  }
 ],
 "metadata": {
  "kernelspec": {
   "display_name": "Python 3",
   "language": "python",
   "name": "python3"
  },
  "language_info": {
   "codemirror_mode": {
    "name": "ipython",
    "version": 3
   },
   "file_extension": ".py",
   "mimetype": "text/x-python",
   "name": "python",
   "nbconvert_exporter": "python",
   "pygments_lexer": "ipython3",
   "version": "3.8.5"
  }
 },
 "nbformat": 4,
 "nbformat_minor": 4
}
